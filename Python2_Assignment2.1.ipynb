{
 "cells": [
  {
   "cell_type": "markdown",
   "metadata": {},
   "source": [
    "### 2.1 Program to accept a sequence of comma separated numbers from console and generate a list"
   ]
  },
  {
   "cell_type": "code",
   "execution_count": 4,
   "metadata": {},
   "outputs": [
    {
     "name": "stdout",
     "output_type": "stream",
     "text": [
      "Enter few numbers separated by comma: 1,21,334,3453,234123,11,2\n",
      "Your list is: \n",
      "['1', '21', '334', '3453', '234123', '11', '2']\n"
     ]
    }
   ],
   "source": [
    "in_num= input(\"Enter few numbers separated by comma: \")\n",
    "out_num=in_num.split(',')\n",
    "\n",
    "print(\"Your list is: \")\n",
    "print(list(out_num))"
   ]
  },
  {
   "cell_type": "code",
   "execution_count": null,
   "metadata": {},
   "outputs": [],
   "source": []
  }
 ],
 "metadata": {
  "kernelspec": {
   "display_name": "Python 3",
   "language": "python",
   "name": "python3"
  },
  "language_info": {
   "codemirror_mode": {
    "name": "ipython",
    "version": 3
   },
   "file_extension": ".py",
   "mimetype": "text/x-python",
   "name": "python",
   "nbconvert_exporter": "python",
   "pygments_lexer": "ipython3",
   "version": "3.7.0"
  }
 },
 "nbformat": 4,
 "nbformat_minor": 2
}
